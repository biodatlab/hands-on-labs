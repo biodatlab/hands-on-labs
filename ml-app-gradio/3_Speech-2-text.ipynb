{
 "cells": [
  {
   "cell_type": "markdown",
   "metadata": {},
   "source": [
    "## Automatic Speech Recognition\n"
   ]
  },
  {
   "cell_type": "markdown",
   "metadata": {},
   "source": [
    "What is speech to text?\n",
    "\n",
    "- Automatic Speech Recognition (ASR), also known as Speech to Text (STT), is the task of transcribing a given audio to text. \n",
    "[Reference](https://huggingface.co/tasks/automatic-speech-recognition)"
   ]
  },
  {
   "cell_type": "markdown",
   "metadata": {},
   "source": [
    "##### Thonburian Whisper\n",
    "\n",
    "https://huggingface.co/biodatlab/whisper-th-medium-combined"
   ]
  },
  {
   "cell_type": "code",
   "execution_count": 2,
   "metadata": {},
   "outputs": [
    {
     "name": "stderr",
     "output_type": "stream",
     "text": [
      "/home/badboy-005/anaconda3/envs/biomedparse/lib/python3.9/site-packages/tqdm/auto.py:21: TqdmWarning: IProgress not found. Please update jupyter and ipywidgets. See https://ipywidgets.readthedocs.io/en/stable/user_install.html\n",
      "  from .autonotebook import tqdm as notebook_tqdm\n",
      "Device set to use cuda:0\n"
     ]
    }
   ],
   "source": [
    "from transformers import pipeline\n",
    "import torch\n",
    "\n",
    "MODEL_NAME = \"biodatlab/whisper-th-medium-combined\"  # specify the model name\n",
    "lang = \"th\"  # change to Thai langauge\n",
    "\n",
    "device = 0 if torch.cuda.is_available() else \"cpu\" \n",
    "\n",
    "pipe = pipeline(\n",
    "    task=\"automatic-speech-recognition\", # specify the task\n",
    "    model=MODEL_NAME, # define the model\n",
    "    chunk_length_s=30, # specify the chunk length\n",
    "    device=device, # use GPU if available\n",
    ")\n",
    "\n",
    "pipe.model.config.forced_decoder_ids = pipe.tokenizer.get_decoder_prompt_ids(\n",
    "  language=lang,\n",
    "  task=\"transcribe\" # specify the task\n",
    ")"
   ]
  },
  {
   "cell_type": "code",
   "execution_count": null,
   "metadata": {},
   "outputs": [],
   "source": [
    "text = pipe(\"audio.mp3\")[\"text\"] # give audio mp3 and transcribe text"
   ]
  }
 ],
 "metadata": {
  "kernelspec": {
   "display_name": "biomedparse",
   "language": "python",
   "name": "python3"
  },
  "language_info": {
   "codemirror_mode": {
    "name": "ipython",
    "version": 3
   },
   "file_extension": ".py",
   "mimetype": "text/x-python",
   "name": "python",
   "nbconvert_exporter": "python",
   "pygments_lexer": "ipython3",
   "version": "3.9.19"
  }
 },
 "nbformat": 4,
 "nbformat_minor": 2
}
