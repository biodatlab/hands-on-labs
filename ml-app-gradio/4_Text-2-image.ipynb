{
 "cells": [
  {
   "cell_type": "code",
   "execution_count": null,
   "metadata": {},
   "outputs": [],
   "source": [
    "!pip install diffusers"
   ]
  },
  {
   "cell_type": "markdown",
   "metadata": {},
   "source": [
    "## Text-2-image\n",
    "\n",
    "- Text-to-image is the task of generating images from input text.\n",
    "\n",
    "Reference : https://huggingface.co/tasks/text-to-image"
   ]
  },
  {
   "cell_type": "code",
   "execution_count": null,
   "metadata": {},
   "outputs": [],
   "source": [
    "# Importing the required libraries\n",
    "import gradio as gr\n",
    "from diffusers import StableDiffusionPipeline\n",
    "import torch"
   ]
  },
  {
   "cell_type": "code",
   "execution_count": null,
   "metadata": {},
   "outputs": [],
   "source": [
    "# Load the Stable Diffusion model\n",
    "model_id = \"runwayml/stable-diffusion-v1-5\"\n",
    "pipe = StableDiffusionPipeline.from_pretrained(model_id, torch_dtype=torch.float16)\n",
    "pipe = pipe.to(\"cuda\")  # Use GPU for faster generation\n",
    "\n",
    "def generate_image(prompt):\n",
    "    with torch.autocast(\"cuda\"):\n",
    "        image = pipe(prompt).images[0]\n",
    "    return image\n",
    "\n",
    "# Create the Gradio interface\n",
    "with gr.Blocks() as demo:\n",
    "    gr.Markdown(\"## Text-to-Image Generator\")\n",
    "    with gr.Row():\n",
    "        text_input = gr.Textbox(label=\"Enter your prompt\", placeholder=\"A futuristic city at night\")\n",
    "        image_output = gr.Image(label=\"Generated Image\")\n",
    "    generate_button = gr.Button(\"Generate Image\")\n",
    "    generate_button.click(fn=generate_image, inputs=text_input, outputs=image_output)\n",
    "\n",
    "# Launch the interface\n",
    "demo.launch()"
   ]
  }
 ],
 "metadata": {
  "kernelspec": {
   "display_name": "biomedparse",
   "language": "python",
   "name": "python3"
  },
  "language_info": {
   "codemirror_mode": {
    "name": "ipython",
    "version": 3
   },
   "file_extension": ".py",
   "mimetype": "text/x-python",
   "name": "python",
   "nbconvert_exporter": "python",
   "pygments_lexer": "ipython3",
   "version": "3.9.19"
  }
 },
 "nbformat": 4,
 "nbformat_minor": 2
}
