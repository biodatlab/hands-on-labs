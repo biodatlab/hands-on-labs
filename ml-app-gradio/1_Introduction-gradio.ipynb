{
  "cells": [
    {
      "cell_type": "markdown",
      "metadata": {
        "id": "1b0gyWaU8Tsa"
      },
      "source": [
        "# Introduction to Gradio\n",
        "\n",
        "Gradio is an open-source Python package that allows you to quickly build a demo or web application for your machine learning model, API, or any arbitrary Python function.\n",
        "\n",
        "See the documentation here: [Gradio.Guide](https://www.gradio.app/guides/quickstart)"
      ]
    },
    {
      "cell_type": "code",
      "execution_count": null,
      "metadata": {
        "id": "5NIoUtTFAOj9"
      },
      "outputs": [],
      "source": [
        "# install the required packages\n",
        "!pip install gradio "
      ]
    },
    {
      "cell_type": "markdown",
      "metadata": {},
      "source": [
        "Start with simple example:\n",
        "\n",
        "**tip** Create a function that takes an input as `(person name and intensity level) and returns an output"
      ]
    },
    {
      "cell_type": "code",
      "execution_count": null,
      "metadata": {},
      "outputs": [],
      "source": [
        "# Import libraries using in this example\n",
        "import numpy as np \n",
        "import gradio as gr "
      ]
    },
    {
      "cell_type": "markdown",
      "metadata": {},
      "source": [
        "- After lacunching the interface, you can see the interface in the output cell. shown below\n",
        "- You can enter any name and level intensity bar, then click the 'submit' button to see the output on the right side of the interface"
      ]
    },
    {
      "cell_type": "code",
      "execution_count": null,
      "metadata": {
        "id": "ILJkarqLxkDx"
      },
      "outputs": [],
      "source": [
        "def greet(name, intensity): # Define the function\n",
        "    \"\"\"\n",
        "    A simple function that greets a person with a given intensity bar.\n",
        "    \"\"\"\n",
        "    return \"Hello, \" + name + \"!\" * int(intensity) ## Return the greeting\n",
        "\n",
        "demo = gr.Interface(\n",
        "    fn=greet, # The function to be run\n",
        "    inputs=[\"text\", \"slider\"], # The input type and the slider\n",
        "    outputs=[\"text\"], # The output type\n",
        ")\n",
        "\n",
        "demo.launch() ## Launch the interface"
      ]
    },
    {
      "cell_type": "markdown",
      "metadata": {
        "id": "1bKypbUIyGmU"
      },
      "source": [
        "If you use actual classes for `gr.Textbox` and `gr.Slider` instead of the string shortcuts, you have access to much more customizability through component attributes."
      ]
    },
    {
      "cell_type": "code",
      "execution_count": null,
      "metadata": {
        "id": "SofEy7jwyDF2"
      },
      "outputs": [],
      "source": [
        "## Customizing the interface\n",
        "\n",
        "def greet(name, intensity):\n",
        "    return \"Hello, \" + name + \"!\" * intensity\n",
        "\n",
        "demo = gr.Interface(\n",
        "    fn=greet,  \n",
        "    inputs=[\"text\", gr.Slider(value=2, minimum=1, maximum=10, step=1)], # add slider with min, max, and step\n",
        "    outputs=[gr.Textbox(label=\"greeting\", lines=3)], # add number of textbox lines\n",
        ")\n",
        "\n",
        "demo.launch()"
      ]
    },
    {
      "cell_type": "markdown",
      "metadata": {},
      "source": [
        "-----------"
      ]
    },
    {
      "cell_type": "markdown",
      "metadata": {},
      "source": [
        "**Gradio** can support Image, Video, Dataframe, Audio, Text, and File types.\n",
        "\n",
        "Here, we are trying the simple Image-to-Image filter function"
      ]
    },
    {
      "cell_type": "code",
      "execution_count": null,
      "metadata": {
        "id": "cIZ3P92Gyx92"
      },
      "outputs": [],
      "source": [
        "def filter_sepia(input_img):\n",
        "    \"\"\"\n",
        "    A simple function that applies a sepia filter to an image.\n",
        "\n",
        "        Note : Sepia filter is a type of filter that gives an image a warm, brownish tone.\n",
        "\n",
        "    \"\"\"\n",
        "    sepia_filter = np.array([\n",
        "        [0.393, 0.769, 0.189],\n",
        "        [0.349, 0.686, 0.168],\n",
        "        [0.272, 0.534, 0.131]\n",
        "    ])\n",
        "\n",
        "    sepia_img = input_img.dot(sepia_filter.T) # Apply the sepia filter\n",
        "    sepia_img /= sepia_img.max() # Normalize the image\n",
        "\n",
        "    return sepia_img\n",
        "\n",
        "demo = gr.Interface(\n",
        "    filter_sepia, \n",
        "    gr.Image(), \n",
        "    \"image\",\n",
        "    examples = [\"example_image/text_image_1.png\"] # Add example image\n",
        ") # Create the interface\n",
        "\n",
        "demo.launch()"
      ]
    },
    {
      "cell_type": "markdown",
      "metadata": {
        "id": "DCLzjY-szB_6"
      },
      "source": [
        "See more examples at https://www.gradio.app/guides/the-interface-class"
      ]
    },
    {
      "cell_type": "code",
      "execution_count": null,
      "metadata": {},
      "outputs": [],
      "source": [
        "\"\"\"\n",
        "Coding Challenge\n",
        "\n",
        "Create a Gradio interface that takes in an image and apply Grey scale filter on it\n",
        "\n",
        "def filter_grayscale(input_img):\n",
        "\n",
        "    grayscale_filter = np.array([0.2989, 0.5870, 0.1140])\n",
        "    grayscale_img = input_img.dot(grayscale_filter)\n",
        "    grayscale_img = np.stack([grayscale_img]*3, axis=-1)  # Convert to 3 channels\n",
        "    grayscale_img /= grayscale_img.max()  # Normalize the image\n",
        "\n",
        "    return grayscale_img\n",
        "\n",
        "\"\"\""
      ]
    },
    {
      "cell_type": "markdown",
      "metadata": {},
      "source": [
        "# Building Interface \n",
        "\n",
        "Gradio provides a variety of interface blocks and features that allow you to create interactive and customizable UIs. \n",
        "\n",
        "Below is an overview of some key components and features in Gradio:\n",
        "\n",
        "- Controlling layout\n",
        "- Blocks and events\n",
        "- Blocks Features\n",
        "- Progess Bar\n",
        "- etc .\n"
      ]
    },
    {
      "cell_type": "code",
      "execution_count": null,
      "metadata": {},
      "outputs": [],
      "source": [
        "\"\"\"\n",
        "\n",
        "Gradio makes it easy to build interactive applications, such as a simple calculator. \n",
        "Below is an example of how to create a calculator platform using Gradio's Blocks API.\n",
        "\n",
        "\"\"\"\n",
        "\n",
        "import gradio as gr\n",
        "\n",
        "def calculator(num1, operation, num2): # define the calculator function\n",
        "    if operation == \"add\":\n",
        "        return num1 + num2\n",
        "    elif operation == \"subtract\":\n",
        "        return num1 - num2\n",
        "    elif operation == \"multiply\":\n",
        "        return num1 * num2\n",
        "    elif operation == \"divide\":\n",
        "        return num1 / num2\n",
        "\n",
        "with gr.Blocks() as demo: # Create a Gradio Blocks interface\n",
        "    with gr.Row(): # Create a row\n",
        "        with gr.Column(): # Create a column\n",
        "            num_1 = gr.Number(value=4) # Create a number input\n",
        "            operation = gr.Radio([\"add\", \"subtract\", \"multiply\", \"divide\"]) # Create a radio input\n",
        "            num_2 = gr.Number(value=0) # Create a number input\n",
        "            submit_btn = gr.Button(value=\"Calculate\") # Create a button\n",
        "        with gr.Column():\n",
        "            result = gr.Number() # Create a number output\n",
        "\n",
        "    submit_btn.click(\n",
        "        calculator, inputs=[num_1, operation, num_2], outputs=[result], api_name=False\n",
        "    )\n",
        "    examples = gr.Examples( # Add examples\n",
        "        examples=[\n",
        "            [5, \"add\", 3],\n",
        "            [4, \"divide\", 2],\n",
        "            [-4, \"multiply\", 2.5],\n",
        "            [0, \"subtract\", 1.2],\n",
        "        ],\n",
        "        inputs=[num_1, operation, num_2],\n",
        "    )\n",
        "\n",
        "if __name__ == \"__main__\":\n",
        "    demo.launch(show_api=False)\n"
      ]
    },
    {
      "cell_type": "code",
      "execution_count": null,
      "metadata": {},
      "outputs": [],
      "source": []
    }
  ],
  "metadata": {
    "accelerator": "GPU",
    "colab": {
      "gpuType": "T4",
      "provenance": []
    },
    "kernelspec": {
      "display_name": "base",
      "language": "python",
      "name": "python3"
    },
    "language_info": {
      "codemirror_mode": {
        "name": "ipython",
        "version": 3
      },
      "file_extension": ".py",
      "mimetype": "text/x-python",
      "name": "python",
      "nbconvert_exporter": "python",
      "pygments_lexer": "ipython3",
      "version": "3.9.20"
    }
  },
  "nbformat": 4,
  "nbformat_minor": 0
}
