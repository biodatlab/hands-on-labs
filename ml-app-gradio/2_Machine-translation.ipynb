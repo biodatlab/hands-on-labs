{
 "cells": [
  {
   "cell_type": "markdown",
   "metadata": {},
   "source": [
    "# Machine Translation\n",
    "\n",
    "What is machine translation\n",
    "- Translation converts a sequence of text from one language to another. \n",
    "\n",
    "\n",
    "Reference > https://huggingface.co/docs/transformers/en/tasks/translation"
   ]
  },
  {
   "cell_type": "code",
   "execution_count": null,
   "metadata": {},
   "outputs": [],
   "source": [
    "!pip install transformers[sentencepiece]"
   ]
  },
  {
   "cell_type": "markdown",
   "metadata": {},
   "source": [
    "##### The tranlation model is processing the source group to target group.\n"
   ]
  },
  {
   "cell_type": "code",
   "execution_count": null,
   "metadata": {},
   "outputs": [],
   "source": [
    "from transformers import pipeline\n",
    "\n",
    "# English to French\n",
    "translator = pipeline(\"translation_xx_to_yy\", model=\"google-t5/t5-small\")\n",
    "\n",
    "## Translate English to French\n",
    "text = \"translate English to French: Legumes share resources with nitrogen-fixing bacteria.\" \n",
    "\n",
    "print(translator(text)) "
   ]
  },
  {
   "cell_type": "markdown",
   "metadata": {},
   "source": [
    "### Translation TH-ENG model"
   ]
  },
  {
   "cell_type": "code",
   "execution_count": null,
   "metadata": {},
   "outputs": [],
   "source": [
    "## Load the pre-trained model\n",
    "pipeline = pipeline(\"translation\", model=\"Helsinki-NLP/opus-mt-th-en\")"
   ]
  },
  {
   "cell_type": "markdown",
   "metadata": {},
   "source": [
    "- Model \"Helsinnki-NLP/opus-mt-th-enn\"\n",
    "- Source group : Thai\n",
    "- Target group : English"
   ]
  },
  {
   "cell_type": "code",
   "execution_count": null,
   "metadata": {},
   "outputs": [],
   "source": [
    "## this model is for Thai to Englist translation\n",
    "\n",
    "text = \"translate Thai to Englist : สวัสดีครับ ยินดีที่ได้รู้จักครับ\"\n",
    "print(pipeline(text))"
   ]
  }
 ],
 "metadata": {
  "kernelspec": {
   "display_name": "biomedparse",
   "language": "python",
   "name": "python3"
  },
  "language_info": {
   "codemirror_mode": {
    "name": "ipython",
    "version": 3
   },
   "file_extension": ".py",
   "mimetype": "text/x-python",
   "name": "python",
   "nbconvert_exporter": "python",
   "pygments_lexer": "ipython3",
   "version": "3.9.19"
  }
 },
 "nbformat": 4,
 "nbformat_minor": 2
}
